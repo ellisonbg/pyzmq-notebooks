{
 "metadata": {
  "name": "07_zero_copy"
 },
 "nbformat": 2,
 "worksheets": [
  {
   "cells": [
    {
     "cell_type": "markdown",
     "source": [
      "# Zero copy sends and receives"
     ]
    },
    {
     "cell_type": "markdown",
     "source": [
      "When you call `send`, ZeroMQ makes a copy of your message and places it into the outbound queue. Similarly, when you call `recv` you are getting a copy of the underlying ZeroMQ message. These copies take time to create and consume memory. For small messages this overhead is not worth worrying about. But for large messages, it becomes a performance problem.",
      "",
      "Thankfully ZeroMQ/PyZMQ support zero copy sends and receives. By passing a the `copy=False` keyword argument to `send/recv`, you will avoid this copying. However, there are some subtle points about this that we need to discuss."
     ]
    },
    {
     "cell_type": "markdown",
     "source": [
      "## Basic zero copy"
     ]
    },
    {
     "cell_type": "code",
     "collapsed": true,
     "input": [
      "import zmq"
     ],
     "language": "python",
     "outputs": [],
     "prompt_number": 1
    },
    {
     "cell_type": "code",
     "collapsed": true,
     "input": [
      "ctx = zmq.Context()"
     ],
     "language": "python",
     "outputs": [],
     "prompt_number": 2
    },
    {
     "cell_type": "code",
     "collapsed": true,
     "input": [
      "p1 = ctx.socket(zmq.PAIR)",
      "p2 = ctx.socket(zmq.PAIR)"
     ],
     "language": "python",
     "outputs": [],
     "prompt_number": 3
    },
    {
     "cell_type": "markdown",
     "source": [
      "Use the `inproc` transport, which works for in process messages. Internally, this transport is just passing around pointers. This will enable us to see if any copies have been made."
     ]
    },
    {
     "cell_type": "code",
     "collapsed": true,
     "input": [
      "p1.bind('inproc://foo')",
      "p2.connect('inproc://foo')"
     ],
     "language": "python",
     "outputs": [],
     "prompt_number": 4
    },
    {
     "cell_type": "markdown",
     "source": [
      "### Regular copying send/receive"
     ]
    },
    {
     "cell_type": "markdown",
     "source": [
      "First, let's confirm that a normal send and receive creates a copy."
     ]
    },
    {
     "cell_type": "code",
     "collapsed": true,
     "input": [
      "import numpy as np"
     ],
     "language": "python",
     "outputs": [],
     "prompt_number": 5
    },
    {
     "cell_type": "code",
     "collapsed": true,
     "input": [
      "a = np.zeros((10,10))"
     ],
     "language": "python",
     "outputs": [],
     "prompt_number": 6
    },
    {
     "cell_type": "code",
     "collapsed": true,
     "input": [
      "p1.send(a)"
     ],
     "language": "python",
     "outputs": [],
     "prompt_number": 7
    },
    {
     "cell_type": "code",
     "collapsed": true,
     "input": [
      "m = p2.recv()"
     ],
     "language": "python",
     "outputs": [],
     "prompt_number": 8
    },
    {
     "cell_type": "code",
     "collapsed": true,
     "input": [
      "b = np.frombuffer(m).reshape(a.shape)"
     ],
     "language": "python",
     "outputs": [],
     "prompt_number": 10
    },
    {
     "cell_type": "markdown",
     "source": [
      "Change an element of `a`:"
     ]
    },
    {
     "cell_type": "code",
     "collapsed": false,
     "input": [
      "a[0,0] = 1.0"
     ],
     "language": "python",
     "outputs": [],
     "prompt_number": 11
    },
    {
     "cell_type": "markdown",
     "source": [
      "The corresponding element of `b` is unchanged, proving that we indeed have a copy."
     ]
    },
    {
     "cell_type": "code",
     "collapsed": false,
     "input": [
      "b[0,0]"
     ],
     "language": "python",
     "outputs": [
      {
       "output_type": "pyout",
       "prompt_number": 12,
       "text": [
        "0.0"
       ]
      }
     ],
     "prompt_number": 12
    },
    {
     "cell_type": "markdown",
     "source": [
      "### Zero copy send and receive"
     ]
    },
    {
     "cell_type": "code",
     "collapsed": true,
     "input": [
      "c = np.zeros((10,10))"
     ],
     "language": "python",
     "outputs": [],
     "prompt_number": 13
    },
    {
     "cell_type": "code",
     "collapsed": true,
     "input": [
      "p1.send(c, copy=False)"
     ],
     "language": "python",
     "outputs": [],
     "prompt_number": 14
    },
    {
     "cell_type": "code",
     "collapsed": true,
     "input": [
      "m = p2.recv(copy=False)"
     ],
     "language": "python",
     "outputs": [],
     "prompt_number": 15
    },
    {
     "cell_type": "code",
     "collapsed": true,
     "input": [
      "d = np.frombuffer(m).reshape(a.shape)"
     ],
     "language": "python",
     "outputs": [],
     "prompt_number": 16
    },
    {
     "cell_type": "code",
     "collapsed": false,
     "input": [
      "d[0,0]"
     ],
     "language": "python",
     "outputs": [
      {
       "output_type": "pyout",
       "prompt_number": 17,
       "text": [
        "0.0"
       ]
      }
     ],
     "prompt_number": 17
    },
    {
     "cell_type": "markdown",
     "source": [
      "Let's change an element of `c`:"
     ]
    },
    {
     "cell_type": "code",
     "collapsed": true,
     "input": [
      "c[0,0] = 1.0"
     ],
     "language": "python",
     "outputs": [],
     "prompt_number": 18
    },
    {
     "cell_type": "markdown",
     "source": [
      "The corresponding element of `d` has changed."
     ]
    },
    {
     "cell_type": "code",
     "collapsed": false,
     "input": [
      "d[0,0]"
     ],
     "language": "python",
     "outputs": [
      {
       "output_type": "pyout",
       "prompt_number": 19,
       "text": [
        "1.0"
       ]
      }
     ],
     "prompt_number": 19
    },
    {
     "cell_type": "markdown",
     "source": [
      "This proves that neither `send` nore `recv` have made a copy."
     ]
    },
    {
     "cell_type": "markdown",
     "source": [
      "## Message tracking"
     ]
    },
    {
     "cell_type": "markdown",
     "source": [
      "There is one subtlety of zero copy sends that must be handled with caution.",
      "",
      "* Messages are not sent when `send` is called, they are placed on the outbound queue.",
      "* If you set `copy=False` and send a writable buffer (like a NumPy array) it is possible to make changes to the object while it is sitting in the outbound queue.",
      "* This is not usually what you intend.",
      "",
      "Here is a pseudoexample:",
      "",
      "    a = np.random.rand(10,10)",
      "    sock.send(a, copy=False)",
      "    a[0,0] = ...  # BAD: This could change the array that is sent",
      "",
      "The correct way of handling this is to use a `MessageTracker` by passing the `track=True` argument to `send`. Let's see how the `MessageTracker` works for the `tcp` transport."
     ]
    },
    {
     "cell_type": "code",
     "collapsed": true,
     "input": [
      "p3 = ctx.socket(zmq.PAIR)",
      "p4 = ctx.socket(zmq.PAIR)",
      "p3.bind('tcp://127.0.0.1:1700')",
      "p4.connect('tcp://127.0.0.1:1700')"
     ],
     "language": "python",
     "outputs": [],
     "prompt_number": 20
    },
    {
     "cell_type": "code",
     "collapsed": true,
     "input": [
      "e = np.random.rand(10)"
     ],
     "language": "python",
     "outputs": [],
     "prompt_number": 21
    },
    {
     "cell_type": "code",
     "collapsed": false,
     "input": [
      "mt = p3.send(e, copy=False, track=True); mt"
     ],
     "language": "python",
     "outputs": [
      {
       "output_type": "pyout",
       "prompt_number": 22,
       "text": [
        "<zmq.core.message.MessageTracker at 0x10a35da90>"
       ]
      }
     ],
     "prompt_number": 22
    },
    {
     "cell_type": "markdown",
     "source": [
      "We can then use the `wait` method to block until the message has been sent."
     ]
    },
    {
     "cell_type": "code",
     "collapsed": false,
     "input": [
      "mt.wait()"
     ],
     "language": "python",
     "outputs": [],
     "prompt_number": 23
    },
    {
     "cell_type": "markdown",
     "source": [
      "After wait returns, the `done` attribute is `True`. At this point, we are safe to modify the object."
     ]
    },
    {
     "cell_type": "code",
     "collapsed": false,
     "input": [
      "mt.done"
     ],
     "language": "python",
     "outputs": [
      {
       "output_type": "pyout",
       "prompt_number": 24,
       "text": [
        "True"
       ]
      }
     ],
     "prompt_number": 24
    },
    {
     "cell_type": "code",
     "collapsed": false,
     "input": [
      "m = p4.recv(copy=False)"
     ],
     "language": "python",
     "outputs": [],
     "prompt_number": 26
    },
    {
     "cell_type": "code",
     "collapsed": false,
     "input": [
      "f = np.frombuffer(m); f"
     ],
     "language": "python",
     "outputs": [
      {
       "output_type": "pyout",
       "prompt_number": 27,
       "text": [
        "array([ 0.38476034,  0.34104125,  0.5667404 ,  0.54909678,  0.72325476,",
        "        0.66830277,  0.90277583,  0.92353492,  0.01640822,  0.7786037 ])"
       ]
      }
     ],
     "prompt_number": 27
    },
    {
     "cell_type": "code",
     "collapsed": true,
     "input": [],
     "language": "python",
     "outputs": []
    }
   ]
  }
 ]
}