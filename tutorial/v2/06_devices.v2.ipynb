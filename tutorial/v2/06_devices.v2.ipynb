{
 "metadata": {
  "name": "06_devices"
 },
 "nbformat": 2,
 "worksheets": [
  {
   "cells": [
    {
     "cell_type": "markdown",
     "source": [
      "# Devices"
     ]
    },
    {
     "cell_type": "markdown",
     "source": [
      "Devices are an important abstraction in ZeroMQ/PyZMQ. You have noticed that in all of our examples, we have required one socket to bind and another socket to connect. We have also mentioned the following rule: **transient sockets should connect and persistent sockets should bind**. What if all of your applications processes are transient? Devices solve this problem by creating a new persistent process to which all your sockets can connect to. But devices also do more than this:",
      "",
      "* Provides a persistent process to which all of your sockets can connect to.",
      "* Allows both sides of a messaging pattern to scale.",
      "* Localizes the opening of firewall ports to a single process.",
      "* Introduces a bottleneck and failure point into your applications.",
      "",
      "In spite of their downsides, devices are useful in many types of applications and we recommend their usage."
     ]
    },
    {
     "cell_type": "markdown",
     "source": [
      "## `QUEUE` device for request/reply"
     ]
    },
    {
     "cell_type": "markdown",
     "source": [
      "<image src=\"/files/diagrams/06_diagram_1.png\"/>"
     ]
    },
    {
     "cell_type": "markdown",
     "source": [
      "To start this device:",
      "",
      "    d = zmq.devices.Device(zmq.QUEUE,zmq.ROUTER,zmq.DEALER)",
      "    d.bind_in('tcp://127.0.0.1:1601')",
      "    d.bind_out('tcp://127.0.0.1:1602')",
      "    d.start()",
      "",
      "The call to `start` will block. If you want to run your device in the background, we have `ThreadDevice` and `ProcessDevice` that use threads and the multiprocessing modules respectively."
     ]
    },
    {
     "cell_type": "markdown",
     "source": [
      "## `FORWARDER` device for publish/subscribe"
     ]
    },
    {
     "cell_type": "markdown",
     "source": [
      "<image src=\"/files/diagrams/06_diagram_2.png\"/>"
     ]
    },
    {
     "cell_type": "markdown",
     "source": [
      "To start this device:",
      "",
      "    d = zmq.devices.Device(zmq.QUEUE,zmq.SUB,zmq.PUB)",
      "    d.bind_in('tcp://127.0.0.1:1603')",
      "    d.bind_out('tcp://127.0.0.1:1604')",
      "    d.start()"
     ]
    },
    {
     "cell_type": "markdown",
     "source": [
      "## `STREAMER` device for pipeline"
     ]
    },
    {
     "cell_type": "markdown",
     "source": [
      "<image src=\"/files/diagrams/06_diagram_3.png\"/>"
     ]
    },
    {
     "cell_type": "markdown",
     "source": [
      "To start this device:",
      "",
      "    d = zmq.devices.Device(zmq.QUEUE,zmq.PULL,zmq.PUSH)",
      "    d.bind_in('tcp://127.0.0.1:1605')",
      "    d.bind_out('tcp://127.0.0.1:1606')",
      "    d.start()"
     ]
    }
   ]
  }
 ]
}