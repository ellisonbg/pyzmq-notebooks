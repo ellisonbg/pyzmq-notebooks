{
 "metadata": {
  "name": "02_req_rep"
 },
 "nbformat": 2,
 "worksheets": [
  {
   "cells": [
    {
     "cell_type": "markdown",
     "source": [
      "# Request/Reply"
     ]
    },
    {
     "cell_type": "markdown",
     "source": [
      "The simplest and most familiar messaging pattern in ZeroMQ is called request/reply. This messaging pattern has the following characteristics:",
      "",
      "* One endpoint sends requests.",
      "* The other endpoint receives those requests and sends replies.",
      "* The original endpoint then receives the reply.",
      "",
      "This messaging pattern is implemented by the `REQ`/`REP` sockets types."
     ]
    },
    {
     "cell_type": "markdown",
     "source": [
      "## The basics"
     ]
    },
    {
     "cell_type": "code",
     "collapsed": false,
     "input": [
      "import zmq"
     ],
     "language": "python",
     "outputs": [],
     "prompt_number": 1
    },
    {
     "cell_type": "code",
     "collapsed": true,
     "input": [
      "ctx = zmq.Context()"
     ],
     "language": "python",
     "outputs": [],
     "prompt_number": 2
    },
    {
     "cell_type": "code",
     "collapsed": true,
     "input": [
      "req = ctx.socket(zmq.REQ) # REQ sends REQuests.",
      "rep = ctx.socket(zmq.REP) # REP sends REPlies."
     ],
     "language": "python",
     "outputs": [],
     "prompt_number": 3
    },
    {
     "cell_type": "code",
     "collapsed": false,
     "input": [
      "rep.bind('tcp://127.0.0.1:1200')",
      "req.connect('tcp://127.0.0.1:1200')"
     ],
     "language": "python",
     "outputs": [],
     "prompt_number": 4
    },
    {
     "cell_type": "markdown",
     "source": [
      "Here is a connection diagram of this configuration. Note how the arrow points from the socket that connects to the socket that binds and the direction of message traffic is independent of this.",
      "",
      "<image src=\"/files/diagrams/02_diagram_1.png\"/>"
     ]
    },
    {
     "cell_type": "markdown",
     "source": [
      "The `REQ` socket begins by sending a request:"
     ]
    },
    {
     "cell_type": "code",
     "collapsed": true,
     "input": [
      "req.send('UP')"
     ],
     "language": "python",
     "outputs": [],
     "prompt_number": 5
    },
    {
     "cell_type": "markdown",
     "source": [
      "The `REP` socket receives the request:"
     ]
    },
    {
     "cell_type": "code",
     "collapsed": false,
     "input": [
      "msg = rep.recv(); msg"
     ],
     "language": "python",
     "outputs": [
      {
       "output_type": "pyout",
       "prompt_number": 6,
       "text": [
        "'UP'"
       ]
      }
     ],
     "prompt_number": 6
    },
    {
     "cell_type": "markdown",
     "source": [
      "The `REP` socket sends the reply:"
     ]
    },
    {
     "cell_type": "code",
     "collapsed": true,
     "input": [
      "rep.send('Got: %s' % msg)"
     ],
     "language": "python",
     "outputs": [],
     "prompt_number": 7
    },
    {
     "cell_type": "markdown",
     "source": [
      "The `REQ` socket receives the reply:"
     ]
    },
    {
     "cell_type": "code",
     "collapsed": false,
     "input": [
      "req.recv()"
     ],
     "language": "python",
     "outputs": [
      {
       "output_type": "pyout",
       "prompt_number": 8,
       "text": [
        "'Got: UP'"
       ]
      }
     ],
     "prompt_number": 8
    },
    {
     "cell_type": "markdown",
     "source": [
      "As this example shows, `REQ/REP` sockets have is a very strict constraint: **each socket must follow a strict `send/recv` sequence:**",
      "",
      "* `REQ`: send, receive, send, receive,...",
      "* `REP`: receive, send, receive, send,...",
      "",
      "Any deviation from this this lockstep sequence will result an a `ZMQError` being raised with an `errno=zmq.EFSM`:"
     ]
    },
    {
     "cell_type": "code",
     "collapsed": false,
     "input": [
      "try:",
      "    # req is ready to send now!",
      "    req.recv()",
      "except zmq.ZMQError, e:",
      "    print e.errno == zmq.EFSM, e.strerror"
     ],
     "language": "python",
     "outputs": [
      {
       "output_type": "stream",
       "stream": "stdout",
       "text": [
        "True Operation cannot be accomplished in current state"
       ]
      }
     ],
     "prompt_number": 9
    },
    {
     "cell_type": "markdown",
     "source": [
      "## Serialization"
     ]
    },
    {
     "cell_type": "markdown",
     "source": [
      "What if you need to send something other than bytes over a ZeroMQ socket?  One of the most powerful aspects of ZeroMQ is that **it doesn't handle serialization for you**.  This means you can pick any serialization approach that works for you. There are two options for how you handle serialization in your application:",
      "",
      "* Use an existing serialization/encoding library (pickle, JSON, msgpack, protocol buffers, BSON) and do it yourself.",
      "* Call one of PyZMQ's helper methods that encapsulates this logic for you.",
      "",
      "For sending Python objects using pickle you can use the `send_pyobj/recv_pyobj` methods or use the `pickle` module yourself:"
     ]
    },
    {
     "cell_type": "code",
     "collapsed": true,
     "input": [
      "req.send_pyobj(range(10))"
     ],
     "language": "python",
     "outputs": [],
     "prompt_number": 10
    },
    {
     "cell_type": "code",
     "collapsed": false,
     "input": [
      "msg = rep.recv_pyobj(); msg"
     ],
     "language": "python",
     "outputs": [
      {
       "output_type": "pyout",
       "prompt_number": 11,
       "text": [
        "[0, 1, 2, 3, 4, 5, 6, 7, 8, 9]"
       ]
      }
     ],
     "prompt_number": 11
    },
    {
     "cell_type": "markdown",
     "source": [
      "For the reply, let's use pickle by hand:"
     ]
    },
    {
     "cell_type": "code",
     "collapsed": false,
     "input": [
      "import pickle",
      "rep.send(pickle.dumps(msg[::-1]))"
     ],
     "language": "python",
     "outputs": [],
     "prompt_number": 12
    },
    {
     "cell_type": "code",
     "collapsed": false,
     "input": [
      "pickle.loads(req.recv())"
     ],
     "language": "python",
     "outputs": [
      {
       "output_type": "pyout",
       "prompt_number": 13,
       "text": [
        "[9, 8, 7, 6, 5, 4, 3, 2, 1, 0]"
       ]
      }
     ],
     "prompt_number": 13
    },
    {
     "cell_type": "markdown",
     "source": [
      "Here is the same example using JSON:"
     ]
    },
    {
     "cell_type": "code",
     "collapsed": true,
     "input": [
      "req.send_json(range(10))"
     ],
     "language": "python",
     "outputs": [],
     "prompt_number": 14
    },
    {
     "cell_type": "code",
     "collapsed": false,
     "input": [
      "msg = rep.recv_json(); msg"
     ],
     "language": "python",
     "outputs": [
      {
       "output_type": "pyout",
       "prompt_number": 15,
       "text": [
        "[0, 1, 2, 3, 4, 5, 6, 7, 8, 9]"
       ]
      }
     ],
     "prompt_number": 15
    },
    {
     "cell_type": "code",
     "collapsed": false,
     "input": [
      "from zmq.utils import jsonapi  # Picks the best JSON library",
      "rep.send(jsonapi.dumps(msg[::-1]))"
     ],
     "language": "python",
     "outputs": [],
     "prompt_number": 16
    },
    {
     "cell_type": "code",
     "collapsed": false,
     "input": [
      "jsonapi.loads(req.recv())"
     ],
     "language": "python",
     "outputs": [
      {
       "output_type": "pyout",
       "prompt_number": 17,
       "text": [
        "[9, 8, 7, 6, 5, 4, 3, 2, 1, 0]"
       ]
      }
     ],
     "prompt_number": 17
    },
    {
     "cell_type": "markdown",
     "source": [
      "For Unicode strings, you can use the `send_unicode/recv_unicode` methods or encode/decode the strings yourself:"
     ]
    },
    {
     "cell_type": "code",
     "collapsed": true,
     "input": [
      "req.send_unicode(u'\u00d8MQ')"
     ],
     "language": "python",
     "outputs": [],
     "prompt_number": 18
    },
    {
     "cell_type": "code",
     "collapsed": false,
     "input": [
      "msg = rep.recv_unicode(); print msg"
     ],
     "language": "python",
     "outputs": [
      {
       "output_type": "stream",
       "stream": "stdout",
       "text": [
        "\u00d8MQ"
       ]
      }
     ],
     "prompt_number": 19
    },
    {
     "cell_type": "code",
     "collapsed": false,
     "input": [
      "rep.send((msg+u' is great!').encode('utf-8'))"
     ],
     "language": "python",
     "outputs": [],
     "prompt_number": 20
    },
    {
     "cell_type": "code",
     "collapsed": false,
     "input": [
      "print req.recv().decode('utf-8')"
     ],
     "language": "python",
     "outputs": [
      {
       "output_type": "stream",
       "stream": "stdout",
       "text": [
        "\u00d8MQ is great!"
       ]
      }
     ],
     "prompt_number": 21
    },
    {
     "cell_type": "markdown",
     "source": [
      "Any object that implements Python's buffer protocol can be sent without any additional serialization. In particular, NumPy arrays can be sent in this manner:"
     ]
    },
    {
     "cell_type": "code",
     "collapsed": false,
     "input": [
      "import numpy as np",
      "a = np.random.rand(10,10)"
     ],
     "language": "python",
     "outputs": [],
     "prompt_number": 22
    },
    {
     "cell_type": "code",
     "collapsed": false,
     "input": [
      "req.send(a)"
     ],
     "language": "python",
     "outputs": [],
     "prompt_number": 23
    },
    {
     "cell_type": "markdown",
     "source": [
      "You will have to use `numpy.frombuffer` to reconstruct your array. The NumPy buffer that is sent doesn't have information like the shape and dtype, so you will have to set that by hand or serialize and send that information as well."
     ]
    },
    {
     "cell_type": "code",
     "collapsed": false,
     "input": [
      "msg = rep.recv()",
      "b = np.frombuffer(msg).reshape(a.shape)",
      "b"
     ],
     "language": "python",
     "outputs": [
      {
       "output_type": "pyout",
       "prompt_number": 24,
       "text": [
        "array([[ 0.95013148,  0.40939412,  0.6868962 ,  0.32713807,  0.68238576,",
        "         0.25568575,  0.827699  ,  0.00867598,  0.91641885,  0.45183157],",
        "       [ 0.39742995,  0.09583748,  0.75181302,  0.93620641,  0.36957578,",
        "         0.53625872,  0.42344425,  0.69044565,  0.39298595,  0.38909876],",
        "       [ 0.33002697,  0.59825249,  0.59777407,  0.52645287,  0.67771024,",
        "         0.29875539,  0.83290285,  0.648834  ,  0.50870059,  0.83440112],",
        "       [ 0.18874787,  0.98730177,  0.30262722,  0.05053616,  0.67532878,",
        "         0.75023947,  0.51304386,  0.32912683,  0.71194604,  0.65572031],",
        "       [ 0.13350639,  0.01568905,  0.45281888,  0.77138667,  0.05083767,",
        "         0.93372637,  0.41480596,  0.32985787,  0.00956497,  0.8252925 ],",
        "       [ 0.45256456,  0.74879317,  0.93492675,  0.2574112 ,  0.14638143,",
        "         0.95238652,  0.70960942,  0.98415045,  0.3008869 ,  0.87669319],",
        "       [ 0.80262937,  0.13519771,  0.55888861,  0.99112677,  0.9847617 ,",
        "         0.80309845,  0.42414814,  0.07870484,  0.65774884,  0.34076072],",
        "       [ 0.4786859 ,  0.63925926,  0.33441799,  0.79409656,  0.24974548,",
        "         0.14656099,  0.49082139,  0.76689395,  0.52500295,  0.79630973],",
        "       [ 0.79600878,  0.31174874,  0.79862294,  0.78152173,  0.30626197,",
        "         0.51778377,  0.67242811,  0.73814764,  0.35818044,  0.90536236],",
        "       [ 0.54048274,  0.22690341,  0.69475476,  0.26820737,  0.18424176,",
        "         0.46750947,  0.12456941,  0.00227208,  0.39348615,  0.43584584]])"
       ]
      }
     ],
     "prompt_number": 24
    },
    {
     "cell_type": "code",
     "collapsed": false,
     "input": [
      "rep.send(np.linalg.eigvals(b))",
      "msg = req.recv()",
      "eigvals = np.frombuffer(msg)",
      "eigvals"
     ],
     "language": "python",
     "outputs": [
      {
       "output_type": "pyout",
       "prompt_number": 25,
       "text": [
        "array([ 5.22783802,  0.        , -1.27295439,  0.        ,  0.13046271,",
        "        0.68349513,  0.13046271, -0.68349513, -0.51314423,  0.        ,",
        "        0.48707795,  0.21758592,  0.48707795, -0.21758592,  0.28925615,",
        "        0.        , -0.14175256,  0.14976705, -0.14175256, -0.14976705])"
       ]
      }
     ],
     "prompt_number": 25
    },
    {
     "cell_type": "markdown",
     "source": [
      "## Multipart messages"
     ]
    },
    {
     "cell_type": "markdown",
     "source": [
      "What if your message has multiple parts? In many network protocols, you would have to wrap the multiple message parts in a container (`list`, `tuple`, `dict`) and serialize the entire container. Thankfully ZeroMQ provides a better way: multipart or multiframe messages. The simplest way of sending multipart messages is by calling `send_multipart/recv_multipart`:"
     ]
    },
    {
     "cell_type": "code",
     "collapsed": true,
     "input": [
      "req.send_multipart(['AAPL','PRICE'])"
     ],
     "language": "python",
     "outputs": [],
     "prompt_number": 26
    },
    {
     "cell_type": "code",
     "collapsed": false,
     "input": [
      "msg_list = rep.recv_multipart(); msg_list"
     ],
     "language": "python",
     "outputs": [
      {
       "output_type": "pyout",
       "prompt_number": 27,
       "text": [
        "['AAPL', 'PRICE']"
       ]
      }
     ],
     "prompt_number": 27
    },
    {
     "cell_type": "code",
     "collapsed": true,
     "input": [
      "rep.send_multipart(['AAPL','527.5'])"
     ],
     "language": "python",
     "outputs": [],
     "prompt_number": 28
    },
    {
     "cell_type": "code",
     "collapsed": false,
     "input": [
      "symbol, price = req.recv_multipart();",
      "print symbol, price"
     ],
     "language": "python",
     "outputs": [
      {
       "output_type": "stream",
       "stream": "stdout",
       "text": [
        "AAPL 527.5"
       ]
      }
     ],
     "prompt_number": 29
    },
    {
     "cell_type": "markdown",
     "source": [
      "There is a lower level API for sending multipart messages (`zmq.SNDMORE`) but **we strongly encourage the usage of `send_multipart`/`recv_multipart`.** The only caveat is that you have to do the serialization of the individual message frames yourself."
     ]
    },
    {
     "cell_type": "markdown",
     "source": [
      "## Binding and connecting to multiple endpoints"
     ]
    },
    {
     "cell_type": "markdown",
     "source": [
      "ZeroMQ sockets have an amazing ability: you can call `bind` or `connect` multiple times to connect a socket to multiple peers. Much of the power of ZeroMQ lies in this ability.  Here are a couple of principles to remember when navigating this feature:",
      "",
      "* The behavior that calling `bind/connect` multiple times produces depends on the socket type and messaging pattern you are using.",
      "* For `REQ/REP` sockets calling `bind/connect` multiple times produces automatic, round-robin load balancing.",
      "* Call `bind` on the sockets that are persistent and long running and call `connect` on the sockets that are transient.",
      "",
      "Let's create a simple persistent service that reverses strings using a `REP` socket. Because the service is persistent, we will call `bind` on that side. The service logic is found in the file `02_reverser.py`.  Have a look at that file and then start two instances from the command line by doing:",
      "",
      "    $ python 02_reverser.py 1203",
      "    $ python 02 reverser.py 1204",
      "",
      "Next create a transient `REQ` socket to talk to the services. To enable load balancing, we connect the socket to both services:"
     ]
    },
    {
     "cell_type": "code",
     "collapsed": false,
     "input": [
      "req = ctx.socket(zmq.REQ)",
      "req.connect('tcp://127.0.0.1:1203')",
      "req.connect('tcp://127.0.0.1:1204')"
     ],
     "language": "python",
     "outputs": [],
     "prompt_number": 30
    },
    {
     "cell_type": "markdown",
     "source": [
      "Here is our connection diagram:",
      "",
      "<image src=\"/files/diagrams/02_diagram_2.png\"/>"
     ]
    },
    {
     "cell_type": "markdown",
     "source": [
      "Now we can start sending strings that we would like to be reversed:"
     ]
    },
    {
     "cell_type": "code",
     "collapsed": false,
     "input": [
      "for i in range(10):",
      "    req.send('HI THERE '*i)",
      "    print req.recv()"
     ],
     "language": "python",
     "outputs": [
      {
       "output_type": "stream",
       "stream": "stdout",
       "text": [
        "",
        " EREHT IH",
        " EREHT IH EREHT IH",
        " EREHT IH EREHT IH EREHT IH",
        " EREHT IH EREHT IH EREHT IH EREHT IH",
        " EREHT IH EREHT IH EREHT IH EREHT IH EREHT IH",
        " EREHT IH EREHT IH EREHT IH EREHT IH EREHT IH EREHT IH",
        " EREHT IH EREHT IH EREHT IH EREHT IH EREHT IH EREHT IH EREHT IH",
        " EREHT IH EREHT IH EREHT IH EREHT IH EREHT IH EREHT IH EREHT IH EREHT IH",
        " EREHT IH EREHT IH EREHT IH EREHT IH EREHT IH EREHT IH EREHT IH EREHT IH EREHT IH"
       ]
      }
     ],
     "prompt_number": 31
    },
    {
     "cell_type": "markdown",
     "source": [
      "On the `REQ` side of things, all we see is that our strings have been reversed.  But, if you look at the console output of our two services, you will see that these requests have been load balanced between the two. Note that if our service was transient and the requester was persistent, we could have called `bind/connect` on opposite sides. You may want to try that now."
     ]
    },
    {
     "cell_type": "markdown",
     "source": [
      "## Limitations of `REQ/REP`"
     ]
    },
    {
     "cell_type": "markdown",
     "source": [
      "While `REQ/REP` sockets are powerful, they have one important limitation: only one request/reply cycle can be in flight at a time. This means that even if you are load balancing requests, you have to wait for the current reply to come back before submitting the next request. This limitation goes back to the constraint that `REQ/REP` sockets have to follow a lockstep send, receive cycle.",
      "",
      "Most importantly, as you can probably see, this limitation prevents `REQ/REP` socket load balancing from being concurrent. Only one `REP` socket at a time can get a message to handle. In a later section, we will see how to overcome this limitation with `ROUTER/DEALER` sockets. "
     ]
    },
    {
     "cell_type": "code",
     "collapsed": true,
     "input": [],
     "language": "python",
     "outputs": []
    }
   ]
  }
 ]
}