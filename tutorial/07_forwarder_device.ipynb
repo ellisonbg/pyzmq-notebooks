{
 "metadata": {
  "name": "06_forwarder_device"
 },
 "nbformat": 3,
 "worksheets": [
  {
   "cells": [
    {
     "cell_type": "code",
     "collapsed": true,
     "input": [],
     "language": "python",
     "outputs": []
    }
   ]
  }
 ]
}