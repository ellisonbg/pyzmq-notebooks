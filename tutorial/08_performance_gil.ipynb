{
 "metadata": {
  "name": "08_performance_gil"
 },
 "nbformat": 3,
 "worksheets": [
  {
   "cells": [
    {
     "cell_type": "markdown",
     "source": [
      "# Performance and the GIL"
     ]
    },
    {
     "cell_type": "markdown",
     "source": [
      "## Performance benchmarks"
     ]
    },
    {
     "cell_type": "markdown",
     "source": [
      "PyZMQ is very fast. While we have not tested all alternatives, it is probably the fastests networking library available in Python. Why is PyZMQ so fast?",
      "",
      "* PyZMQ wraps the ZeroMQ library.",
      "* ZeroMQ itself is written in C++ and is very fast.",
      "* PyZMQ is written in Cython.",
      "* ZeroMQ performs all networking and message queueing in a pool of C++ threads. If you have multiple cores, ZeroMQ is using them.",
      "",
      "Let's look at some performance numbers that compare PyZMQ with other Python based networking libraries."
     ]
    },
    {
     "cell_type": "markdown",
     "source": [
      "<image src=\"/files/perf/latency.png\" width=600 height=450/>"
     ]
    },
    {
     "cell_type": "markdown",
     "source": [
      "<image src=\"/files/perf/throughput1.png\" width=600 height=450/>"
     ]
    },
    {
     "cell_type": "markdown",
     "source": [
      "<image src=\"/files/perf/throughput2.png\" width=600 height=450/>"
     ]
    },
    {
     "cell_type": "markdown",
     "source": [
      "<image src=\"/files/perf/zerocopy.png\" width=600 height=450/>"
     ]
    },
    {
     "cell_type": "markdown",
     "source": [
      "## The GIL and networking"
     ]
    },
    {
     "cell_type": "markdown",
     "source": [
      "Python's Global Interpreter Lock, or GIL, prevents more than one Python-using thread from running at a time. What does this mean in the context of networking?",
      "",
      "* If you run C/C++ extension code that doesn't release the GIL (many libraries don't), all your Python based networking code in that process will grind to a halt.",
      "* Python based threads don't help one bit.",
      "* Processes don't really help either. How would you talk to the extra process?  Using networking...which grindd to a halt...",
      "",
      "How does PyZMQ solve this problem?",
      "",
      "* When you call `send` in PyZMQ, the message is simply copied onto the outbound queue and then `send` returns.",
      "* Calling `send` does not cause any network calls in that thread.",
      "* The C++ IO threads watch the outbound queue and handles the actual networking calls.",
      "* When an inbound message arrives on a socket, the C++ IO thread places the message in the inbound queue. This queueing continues while your Python code runs in another thread.",
      "* When you call `recv` you are pulling the top message off the inbound queue.",
      "* You can run GIL holding extension code and the C++ IO thread will continue to queue inbound messages and send outbounnd messages.",
      "* If you use PyZMQ you get all of this for free. You don't have to think about it."
     ]
    },
    {
     "cell_type": "code",
     "collapsed": true,
     "input": [],
     "language": "python",
     "outputs": []
    }
   ]
  }
 ]
}