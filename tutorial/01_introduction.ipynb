{
 "metadata": {
  "name": "01_introduction"
 },
 "nbformat": 3,
 "worksheets": [
  {
   "cells": [
    {
     "cell_type": "markdown",
     "source": [
      "# Overview"
     ]
    },
    {
     "cell_type": "markdown",
     "source": [
      "This tutorial walks you through the basics of using PyZMQ. Let's dive right in.",
      "",
      "There are five basic steps you need to use with PyZMQ:",
      "",
      "1. Create a Context.",
      "2. Pick a message pattern and create a pair of sockets.",
      "3. Use `bind` or `connect`.",
      "4. Send and receive messages.",
      "5. Shutdown your sockets and context."
     ]
    },
    {
     "cell_type": "markdown",
     "source": [
      "## Resources"
     ]
    },
    {
     "cell_type": "markdown",
     "source": [
      "As you work through this material, two invaluable resources are the <a href=\"http://zguide.zeromq.org/\" target=\"_\">ZeroMQ Guide</a> and the",
      "<a href=\"http://api.zeromq.org/\" target=\"_\">ZeroMQ API Documentation</a>."
     ]
    },
    {
     "cell_type": "markdown",
     "source": [
      "## Create a `Context`"
     ]
    },
    {
     "cell_type": "markdown",
     "source": [
      "First we need to create a `Context` instance.",
      "",
      "* A `Context` manages a set of ZeroMQ sockets.",
      "* A `Context` is treadsafe.",
      "* Usually you want to create a global process wide `Context`, but you can create multiple `Context`s.",
      "",
      "Instantiating `Context` by hand always creates a new instance:"
     ]
    },
    {
     "cell_type": "code",
     "collapsed": false,
     "input": [
      "import zmq",
      "ctx = zmq.Context(); ctx"
     ],
     "language": "python",
     "outputs": [
      {
       "output_type": "pyout",
       "prompt_number": 1,
       "text": [
        "<zmq.core.context.Context at 0x101d0e470>"
       ]
      }
     ],
     "prompt_number": 1
    },
    {
     "cell_type": "markdown",
     "source": [
      "To create a global `Context` for your application use the `instance` method:",
      "",
      "    ctx = zmq.Context.instance()",
      "",
      "Then, further calls to `instance` will return the same `Context` instance. You can use this throughout your application to get the global instance. When running in the IPython Notebook **don't use `instance()` as you will get the internal `Context` used by IPython and break your notebook session**."
     ]
    },
    {
     "cell_type": "markdown",
     "source": [
      "## Pick a message pattern and create a pair of `Socket`s"
     ]
    },
    {
     "cell_type": "markdown",
     "source": [
      "The next step is to create a `Socket` instance using the `Context`.  A ZeroMQ `Socket` is actually a combination of two abstractions:",
      "",
      "* A network socket that represent the endpoint of a network connection.",
      "* A pair of FIFO queues for incoming and outgoing messages.",
      "",
      "This unique combination means that ZeroMQ sockets provide a powerful tool for both sending and receiving messages over a network as well as for queue based concurrency.",
      "",
      "To pick a socket type, you first need to pick an associated messaging pattern.  There are five basic messaging patterns, each with two socket types that are used to implement that pattern.",
      "",
      "",
      "* Request/Reply: `REQ`/`REP`",
      "* Asynchronous Request/Reply: `ROUTER`/`DEALER`",
      "* Publish/Subscribe: `PUB`/`SUB`",
      "* Pipeline: `PUSH`/`PULL`",
      "* Point-to-point: `PAIR`/`PAIR`",
      "",
      "This tutorial is organized around these basic messaging patterns.  When choosing a messaging pattern, it is important to follow this rule: **use a single socket pair for each capability in your application**.  Don't try to implement all of a complex application using a single socket pair. Here is why you should do this:",
      "",
      "* ZeroMQ sockets are extremely lightweight and easy to manage. There is little complexity cost in creating many sockets.",
      "* It will force you to properly identify the different messaging patterns needed in your application.",
      "* Your application will be scalable.",
      "",
      "To get starting, let's create a pair of `PAIR` sockets:"
     ]
    },
    {
     "cell_type": "code",
     "collapsed": true,
     "input": [
      "p1 = ctx.socket(zmq.PAIR)",
      "p2 = ctx.socket(zmq.PAIR)"
     ],
     "language": "python",
     "outputs": [],
     "prompt_number": 3
    },
    {
     "cell_type": "markdown",
     "source": [
      "## Use `bind` or `connect`"
     ]
    },
    {
     "cell_type": "markdown",
     "source": [
      "Next we need to connect our sockets to each other. This is one area where ZeroMQ sockets are quite different than TCP sockets:",
      "",
      "* `bind` or `connect` can be called multiple times. The meaning of ",
      "* They are connectionless. This means that:",
      "  - You won't ever be notified that a connection is lost.",
      "  - When a connection is lost, the sockets will automatically try to reestablish the connection.",
      "",
      "The connectionless nature of ZeroMQ sockets takes a while to get used to, but greatly simplifies you code and leads to more scalable systems.  When calling `bind` and `connect` there are a few important things to remember:",
      "",
      "* One socket must bind, the other must connect.",
      "* The flow of messages is independent of which socket binds and which connects.",
      "* The socket that binds will listen on a network port, the socket that connects will make an outbound network connection to the other socket.",
      "* The host of the socket that binds must have the corresponding port open in the firewall."
     ]
    },
    {
     "cell_type": "code",
     "collapsed": false,
     "input": [
      "p1.bind('tcp://127.0.0.1:1100')",
      "p2.connect('tcp://127.0.0.1:1100')"
     ],
     "language": "python",
     "outputs": [],
     "prompt_number": 4
    },
    {
     "cell_type": "markdown",
     "source": [
      "Notice that the argument to `bind`/`connect` has the following form:",
      "",
      "`proto://ip:port`",
      "",
      "where proto is one of:",
      "",
      "* `tcp`: regular TCP sockets",
      "* `inproc`: in process inter-thread communication.",
      "* `ipc`: local inter-process communication.",
      "* `pgm/epgm`: reliable multicast using PGM.",
      "",
      "Most of the time you will use the `tcp` option."
     ]
    },
    {
     "cell_type": "markdown",
     "source": [
      "## Send and receive messages"
     ]
    },
    {
     "cell_type": "markdown",
     "source": [
      "Once your sockets have been bound and connected, you can start to send and receive messages:"
     ]
    },
    {
     "cell_type": "code",
     "collapsed": true,
     "input": [
      "p1.send('HI')",
      "p1.send('THERE')"
     ],
     "language": "python",
     "outputs": [],
     "prompt_number": 5
    },
    {
     "cell_type": "code",
     "collapsed": false,
     "input": [
      "p2.recv()"
     ],
     "language": "python",
     "outputs": [
      {
       "output_type": "pyout",
       "prompt_number": 6,
       "text": [
        "'HI'"
       ]
      }
     ],
     "prompt_number": 6
    },
    {
     "cell_type": "code",
     "collapsed": false,
     "input": [
      "p2.recv()"
     ],
     "language": "python",
     "outputs": [
      {
       "output_type": "pyout",
       "prompt_number": 7,
       "text": [
        "'THERE'"
       ]
      }
     ],
     "prompt_number": 7
    },
    {
     "cell_type": "markdown",
     "source": [
      "Arguments passed to `send` and `recv` must be bytes.  For Python 2 this means `str`/`bytes` and for Python 3 this means `bytes`. If you need to send other data types, such as Python objects or Unicode strings you will need to perform serialization and/or encoding. We will talk more about this in the subsequent parts of this tutorial.",
      "",
      "If you call `recv` and there is no message to receive, the call will block:"
     ]
    },
    {
     "cell_type": "code",
     "collapsed": false,
     "input": [
      "p2.recv()"
     ],
     "language": "python",
     "outputs": [
      {
       "ename": "KeyboardInterrupt",
       "evalue": "",
       "output_type": "pyerr",
       "traceback": [
        "\u001b[0;31m---------------------------------------------------------------------------\u001b[0m\n\u001b[0;31mKeyboardInterrupt\u001b[0m                         Traceback (most recent call last)",
        "\u001b[0;32m/Users/bgranger/Documents/Computation/zeromq/pyzmq/tutorial/<ipython-input-8-e0507e627bc2>\u001b[0m in \u001b[0;36m<module>\u001b[0;34m()\u001b[0m\n\u001b[0;32m----> 1\u001b[0;31m \u001b[0mp2\u001b[0m\u001b[0;34m.\u001b[0m\u001b[0mrecv\u001b[0m\u001b[0;34m(\u001b[0m\u001b[0;34m)\u001b[0m\u001b[0;34m\u001b[0m\u001b[0m\n\u001b[0m",
        "\u001b[0;32m/Users/bgranger/Documents/Computation/zeromq/pyzmq/zmq/core/socket.so\u001b[0m in \u001b[0;36mzmq.core.socket.Socket.recv (zmq/core/socket.c:5963)\u001b[0;34m()\u001b[0m\n",
        "\u001b[0;32m/Users/bgranger/Documents/Computation/zeromq/pyzmq/zmq/core/socket.so\u001b[0m in \u001b[0;36mzmq.core.socket.Socket.recv (zmq/core/socket.c:5825)\u001b[0;34m()\u001b[0m\n",
        "\u001b[0;32m/Users/bgranger/Documents/Computation/zeromq/pyzmq/zmq/core/socket.so\u001b[0m in \u001b[0;36mzmq.core.socket._recv_copy (zmq/core/socket.c:1646)\u001b[0;34m()\u001b[0m\n",
        "\u001b[0;32m/Users/bgranger/Documents/Computation/zeromq/pyzmq/zmq/core/error.so\u001b[0m in \u001b[0;36mzmq.core.error.ZMQError.__init__ (zmq/core/error.c:911)\u001b[0;34m()\u001b[0m\n",
        "\u001b[0;31mKeyboardInterrupt\u001b[0m: "
       ]
      }
     ],
     "prompt_number": 8
    },
    {
     "cell_type": "markdown",
     "source": [
      "To get this call to `recv` to return, you will need to send the `SIGINT` signal by doing `Ctrl-C` at the terminal or interrupting the IPython Notebook (go ahead and do that now). Either of this routes cause `KeyboardInterrupt` to be raised by the blocking `recv` call.  You can also perform a non-blocking `recv` by passing `zmq.NOBLOCK` to `recv`:"
     ]
    },
    {
     "cell_type": "code",
     "collapsed": false,
     "input": [
      "try:",
      "    p2.recv(zmq.NOBLOCK)",
      "except zmq.ZMQError, e:",
      "    print e.errno==zmq.EAGAIN, e.strerror"
     ],
     "language": "python",
     "outputs": [
      {
       "output_type": "stream",
       "stream": "stdout",
       "text": [
        "True Resource temporarily unavailable"
       ]
      }
     ],
     "prompt_number": 9
    },
    {
     "cell_type": "markdown",
     "source": [
      "This shows the first example of error handling in PyZMQ.  All low-level errors in PyZMQ are wrapped in the `ZMQError` class and have `errno` and `strerror` properties. The `errno` corresponds to the low-level error number used in the ZeroMQ C library."
     ]
    },
    {
     "cell_type": "markdown",
     "source": [
      "## Shutdown your sockets and context"
     ]
    },
    {
     "cell_type": "markdown",
     "source": [
      "When you are done sending and receiving messages, you need to close your sockets and terminate the context.  The default behavior is that these methods will be called automatically when your sockets and contexts are garbage collected.  If you want to do this manually, this looks like:",
      "",
      "    p1.close()",
      "    p2.close()",
      "    ctx.term()",
      "",
      "There is one subtle point about shutdown related to how unsent messages are handled.  This is controlled by the `linger` socket option. The possible options for `linger` are:",
      "",
      "* `-1`: Wait foreever until all messages are sent before closing (default).",
      "* `0`: Wait no time, close immediately and discard all unsent messages.",
      "* `n`: Wait a maximum of n milliseconds before closing and discarding all unsent messages.",
      "",
      "You can either set the `linger` attribute on individual sockets:",
      "",
      "    p1.linger = 0",
      "",
      "or you can call the convience method `Context.destroy`, which is equivalent to:",
      "",
      "    def destroy(self, linger):",
      "        p1.close(linger)",
      "        p2.close(linger)",
      "        ctx.term()",
      "    ",
      "Let's shutdown this session with `linger=0`:"
     ]
    },
    {
     "cell_type": "code",
     "collapsed": true,
     "input": [
      "ctx.destroy(linger=0)"
     ],
     "language": "python",
     "outputs": [],
     "prompt_number": 10
    },
    {
     "cell_type": "code",
     "collapsed": true,
     "input": [],
     "language": "python",
     "outputs": []
    }
   ]
  }
 ]
}