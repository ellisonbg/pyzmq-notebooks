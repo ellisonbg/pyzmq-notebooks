{
 "metadata": {
  "name": "05_queue_device"
 },
 "nbformat": 3,
 "worksheets": [
  {
   "cells": [
    {
     "cell_type": "code",
     "collapsed": true,
     "input": [],
     "language": "python",
     "outputs": []
    }
   ]
  }
 ]
}