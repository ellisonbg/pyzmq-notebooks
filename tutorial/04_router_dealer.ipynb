{
 "metadata": {
  "name": "04_router_dealer"
 },
 "nbformat": 3,
 "worksheets": [
  {
   "cells": [
    {
     "cell_type": "markdown",
     "source": [
      "# Asynchronous Request/Reply"
     ]
    },
    {
     "cell_type": "markdown",
     "source": [
      "This notebook covers the `ROUTER/DEALER` sockets, which address the one-request-at-a-time limitation of the `REQ/REP` sockets. The `ROUTER/DEALER` sockets are the most powerful, flexible and complex of the ZeroMQ socket types. In addition to supporting asynchronous request/reply, they provide a general approach for routing and load balancing. Here are some of the basic characteristics of these sockets:",
      "",
      "* Both `ROUTER/DEALER` sockets support arbitrary sequences of `send/recv` calls. This is different from the `REQ/REP` sockets and `PUB/SUB` sockets, which are constrained to a very particular sequence of calls.",
      "* The `DEALER` socket will load balance outbound messages and fair queue inbound messages.",
      "* The `ROUTER` socket routes outbound messages using socket identities and queues (FIFO) inbound messages.",
      "",
      "Let's see how this works."
     ]
    },
    {
     "cell_type": "markdown",
     "source": [
      "## Using `DEALER` as a load balanced requester"
     ]
    },
    {
     "cell_type": "markdown",
     "source": [
      "For our first example, we will see how `ROUTER/DEALER` sockets can be used for asynchronous, load-balanced request/reply."
     ]
    },
    {
     "cell_type": "code",
     "collapsed": true,
     "input": [
      "import zmq"
     ],
     "language": "python",
     "outputs": [],
     "prompt_number": 1
    },
    {
     "cell_type": "code",
     "collapsed": true,
     "input": [
      "ctx = zmq.Context()"
     ],
     "language": "python",
     "outputs": [],
     "prompt_number": 2
    },
    {
     "cell_type": "markdown",
     "source": [
      "Create a `DEALER` socket and two `ROUTER` sockets:"
     ]
    },
    {
     "cell_type": "code",
     "collapsed": true,
     "input": [
      "deal = ctx.socket(zmq.DEALER)",
      "rout1 = ctx.socket(zmq.ROUTER)",
      "rout2 = ctx.socket(zmq.ROUTER)"
     ],
     "language": "python",
     "outputs": [],
     "prompt_number": 77
    },
    {
     "cell_type": "markdown",
     "source": [
      "Here we assume that the `ROUTER` sockets are transient so they connect to the `DEALER`:"
     ]
    },
    {
     "cell_type": "code",
     "collapsed": false,
     "input": [
      "deal.bind('tcp://127.0.0.1:1400')",
      "rout1.connect('tcp://127.0.0.1:1400')",
      "rout2.connect('tcp://127.0.0.1:1400')"
     ],
     "language": "python",
     "outputs": [],
     "prompt_number": 78
    },
    {
     "cell_type": "code",
     "collapsed": true,
     "input": [
      "deal.setsockopt(zmq.IDENTITY,'deal')",
      "rout1.setsockopt(zmq.IDENTITY,'rout1')",
      "rout2.setsockopt(zmq.IDENTITY,'rout2')"
     ],
     "language": "python",
     "outputs": [],
     "prompt_number": 79
    },
    {
     "cell_type": "markdown",
     "source": [
      "Let's send 10 multipart messages with a unique message id to help us track where the messages end up."
     ]
    },
    {
     "cell_type": "code",
     "collapsed": true,
     "input": [
      "for i in range(10):",
      "    deal.send_multipart(['message',str(i)])"
     ],
     "language": "python",
     "outputs": [],
     "prompt_number": 80
    },
    {
     "cell_type": "markdown",
     "source": [
      "Here we see that the first `ROUTER` socket has received every other message. That is, the `DEALER` has round-robin load balanced the outbound messages to the two `ROUTER` sockets."
     ]
    },
    {
     "cell_type": "code",
     "collapsed": false,
     "input": [
      "for i in range(5):",
      "    msg_list1 = rout1.recv_multipart()",
      "    print msg_list1",
      "    ident1 = msg_list1[0]"
     ],
     "language": "python",
     "outputs": [
      {
       "output_type": "stream",
       "stream": "stdout",
       "text": [
        "['\\x00\\xea0&\\xb2\\xbd\\xaeE\\x8c\\xbe\\xda\\x1b]\\xc0/\\xbe\\x19', 'message', '0']",
        "['\\x00\\xea0&\\xb2\\xbd\\xaeE\\x8c\\xbe\\xda\\x1b]\\xc0/\\xbe\\x19', 'message', '2']",
        "['\\x00\\xea0&\\xb2\\xbd\\xaeE\\x8c\\xbe\\xda\\x1b]\\xc0/\\xbe\\x19', 'message', '4']",
        "['\\x00\\xea0&\\xb2\\xbd\\xaeE\\x8c\\xbe\\xda\\x1b]\\xc0/\\xbe\\x19', 'message', '6']",
        "['\\x00\\xea0&\\xb2\\xbd\\xaeE\\x8c\\xbe\\xda\\x1b]\\xc0/\\xbe\\x19', 'message', '8']"
       ]
      }
     ],
     "prompt_number": 81
    },
    {
     "cell_type": "markdown",
     "source": [
      "And the second `ROUTER` has received the other messages:"
     ]
    },
    {
     "cell_type": "code",
     "collapsed": false,
     "input": [
      "for i in range(5):",
      "    msg_list2 = rout2.recv_multipart()",
      "    print msg_list2",
      "    ident2 = msg_list2[0]"
     ],
     "language": "python",
     "outputs": [
      {
       "output_type": "stream",
       "stream": "stdout",
       "text": [
        "['\\x00\\x16JY\\x94N\\x96O\\xf3\\x86\\xd7B\\xc0\\xeff\\x13n', 'message', '1']",
        "['\\x00\\x16JY\\x94N\\x96O\\xf3\\x86\\xd7B\\xc0\\xeff\\x13n', 'message', '3']",
        "['\\x00\\x16JY\\x94N\\x96O\\xf3\\x86\\xd7B\\xc0\\xeff\\x13n', 'message', '5']",
        "['\\x00\\x16JY\\x94N\\x96O\\xf3\\x86\\xd7B\\xc0\\xeff\\x13n', 'message', '7']",
        "['\\x00\\x16JY\\x94N\\x96O\\xf3\\x86\\xd7B\\xc0\\xeff\\x13n', 'message', '9']"
       ]
      }
     ],
     "prompt_number": 82
    },
    {
     "cell_type": "markdown",
     "source": [
      "But wait, **what is this extra message frame at the beginning?**  This is the socket identity "
     ]
    },
    {
     "cell_type": "code",
     "collapsed": false,
     "input": [
      "for i in range(5):",
      "    rout1.send_multipart([ident1,'reply1',str(i)])",
      "    rout2.send_multipart([ident2,'reply2',str(i)])"
     ],
     "language": "python",
     "outputs": [],
     "prompt_number": 83
    },
    {
     "cell_type": "code",
     "collapsed": false,
     "input": [
      "for i in range(10):",
      "    print deal.recv_multipart()"
     ],
     "language": "python",
     "outputs": [
      {
       "output_type": "stream",
       "stream": "stdout",
       "text": [
        "['reply1', '0']",
        "['reply2', '0']",
        "['reply1', '1']",
        "['reply2', '1']",
        "['reply1', '2']",
        "['reply2', '2']",
        "['reply1', '3']",
        "['reply2', '3']",
        "['reply1', '4']",
        "['reply2', '4']"
       ]
      }
     ],
     "prompt_number": 84
    },
    {
     "cell_type": "code",
     "collapsed": true,
     "input": [
      "rout = ctx.socket(zmq.ROUTER)",
      "deal1 = ctx.socket(zmq.DEALER)",
      "deal2 = ctx.socket(zmq.DEALER)"
     ],
     "language": "python",
     "outputs": [],
     "prompt_number": 72
    },
    {
     "cell_type": "code",
     "collapsed": true,
     "input": [
      "rout.bind('tcp://127.0.0.1:1401')",
      "deal1.connect('tcp://127.0.0.1:1401')",
      "deal2.connect('tcp://127.0.0.1:1401')"
     ],
     "language": "python",
     "outputs": [],
     "prompt_number": 73
    },
    {
     "cell_type": "code",
     "collapsed": true,
     "input": [
      "rout1.send_multipart(['message','0'])"
     ],
     "language": "python",
     "outputs": [],
     "prompt_number": 69
    },
    {
     "cell_type": "code",
     "collapsed": false,
     "input": [
      "deal1.recv_multipart()"
     ],
     "language": "python",
     "outputs": [
      {
       "ename": "KeyboardInterrupt",
       "evalue": "",
       "output_type": "pyerr",
       "traceback": [
        "\u001b[0;31m---------------------------------------------------------------------------\u001b[0m\n\u001b[0;31mKeyboardInterrupt\u001b[0m                         Traceback (most recent call last)",
        "\u001b[0;32m/Users/bgranger/Documents/Computation/zeromq/pyzmq/tutorial/<ipython-input-71-2eae6051f4a9>\u001b[0m in \u001b[0;36m<module>\u001b[0;34m()\u001b[0m\n\u001b[0;32m----> 1\u001b[0;31m \u001b[0mdeal1\u001b[0m\u001b[0;34m.\u001b[0m\u001b[0mrecv_multipart\u001b[0m\u001b[0;34m(\u001b[0m\u001b[0;34m)\u001b[0m\u001b[0;34m\u001b[0m\u001b[0m\n\u001b[0m",
        "\u001b[0;32m/Users/bgranger/Documents/Computation/zeromq/pyzmq/zmq/core/socket.so\u001b[0m in \u001b[0;36mzmq.core.socket.Socket.recv_multipart (zmq/core/socket.c:6431)\u001b[0;34m()\u001b[0m\n",
        "\u001b[0;32m/Users/bgranger/Documents/Computation/zeromq/pyzmq/zmq/core/socket.so\u001b[0m in \u001b[0;36mzmq.core.socket.Socket.recv (zmq/core/socket.c:5963)\u001b[0;34m()\u001b[0m\n",
        "\u001b[0;32m/Users/bgranger/Documents/Computation/zeromq/pyzmq/zmq/core/socket.so\u001b[0m in \u001b[0;36mzmq.core.socket.Socket.recv (zmq/core/socket.c:5825)\u001b[0;34m()\u001b[0m\n",
        "\u001b[0;32m/Users/bgranger/Documents/Computation/zeromq/pyzmq/zmq/core/socket.so\u001b[0m in \u001b[0;36mzmq.core.socket._recv_copy (zmq/core/socket.c:1646)\u001b[0;34m()\u001b[0m\n",
        "\u001b[0;32m/Users/bgranger/Documents/Computation/zeromq/pyzmq/zmq/core/error.so\u001b[0m in \u001b[0;36mzmq.core.error.ZMQError.__init__ (zmq/core/error.c:911)\u001b[0;34m()\u001b[0m\n",
        "\u001b[0;31mKeyboardInterrupt\u001b[0m: "
       ]
      }
     ],
     "prompt_number": 71
    },
    {
     "cell_type": "code",
     "collapsed": true,
     "input": [
      "deal1.send_multipart(['message','foo'])"
     ],
     "language": "python",
     "outputs": [],
     "prompt_number": 75
    },
    {
     "cell_type": "code",
     "collapsed": false,
     "input": [
      "rout.recv_multipart()"
     ],
     "language": "python",
     "outputs": [
      {
       "output_type": "pyout",
       "prompt_number": 76,
       "text": [
        "[\"\\x00\\xa9X#o\\xbd\\xb7I\\x15\\xb3'\\xbbV\\x9a\\xdfg`\", 'message', 'foo']"
       ]
      }
     ],
     "prompt_number": 76
    },
    {
     "cell_type": "code",
     "collapsed": true,
     "input": [],
     "language": "python",
     "outputs": []
    }
   ]
  }
 ]
}