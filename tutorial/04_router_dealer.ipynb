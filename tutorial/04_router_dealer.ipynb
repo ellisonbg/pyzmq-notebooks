{
 "metadata": {
  "name": "04_router_dealer"
 },
 "nbformat": 3,
 "worksheets": [
  {
   "cells": [
    {
     "cell_type": "markdown",
     "source": [
      "# Generalized Request/Reply"
     ]
    },
    {
     "cell_type": "markdown",
     "source": [
      "This notebook covers the `ROUTER/DEALER` sockets, which address the one-request-at-a-time limitation of the `REQ/REP` sockets. The `ROUTER/DEALER` sockets are the most powerful, flexible and complex of the ZeroMQ socket types. In addition to supporting asynchronous request/reply, they provide a general approach for routing and load balancing. Here are some of the basic characteristics of these sockets:",
      "",
      "* Both `ROUTER/DEALER` sockets support arbitrary sequences of `send/recv` calls. This is different from the `REQ/REP` and `PUB/SUB` sockets, which are constrained to a very particular sequence of calls.",
      "* The `DEALER` socket load balances outbound messages and fair queues inbound messages.",
      "* The `ROUTER` socket routes outbound messages using socket identities and fair queues inbound messages.",
      "",
      "Let's see how this works."
     ]
    },
    {
     "cell_type": "markdown",
     "source": [
      "## Using `DEALER` as a load balanced requester"
     ]
    },
    {
     "cell_type": "markdown",
     "source": [
      "For our first example, we will see how `ROUTER/DEALER` sockets can be used for asynchronous, load-balanced request/reply."
     ]
    },
    {
     "cell_type": "code",
     "collapsed": true,
     "input": [
      "import zmq"
     ],
     "language": "python",
     "outputs": [],
     "prompt_number": 1
    },
    {
     "cell_type": "code",
     "collapsed": true,
     "input": [
      "ctx = zmq.Context()"
     ],
     "language": "python",
     "outputs": [],
     "prompt_number": 2
    },
    {
     "cell_type": "markdown",
     "source": [
      "Create a `DEALER` socket and two `ROUTER` sockets:"
     ]
    },
    {
     "cell_type": "code",
     "collapsed": true,
     "input": [
      "deal = ctx.socket(zmq.DEALER)",
      "rout1 = ctx.socket(zmq.ROUTER)",
      "rout2 = ctx.socket(zmq.ROUTER)"
     ],
     "language": "python",
     "outputs": [],
     "prompt_number": 6
    },
    {
     "cell_type": "markdown",
     "source": [
      "In this case the `DEALER` acts as the requester and initiates the request/reply sequence.  We assume that the `ROUTER` sockets are transient so they connect to the `DEALER`.",
      "",
      "<image src=\"files/diagrams/04_diagram_1.png\"/>"
     ]
    },
    {
     "cell_type": "code",
     "collapsed": false,
     "input": [
      "deal.bind('tcp://127.0.0.1:1400')",
      "rout1.connect('tcp://127.0.0.1:1400')",
      "rout2.connect('tcp://127.0.0.1:1400')"
     ],
     "language": "python",
     "outputs": [],
     "prompt_number": 7
    },
    {
     "cell_type": "markdown",
     "source": [
      "Let's send 10 multipart messages with a unique message id to help us track where the messages end up."
     ]
    },
    {
     "cell_type": "code",
     "collapsed": true,
     "input": [
      "for i in range(10):",
      "    deal.send_multipart(['message',str(i)])"
     ],
     "language": "python",
     "outputs": [],
     "prompt_number": 8
    },
    {
     "cell_type": "markdown",
     "source": [
      "Receive five messages on the first `ROUTER` socket."
     ]
    },
    {
     "cell_type": "code",
     "collapsed": false,
     "input": [
      "for i in range(5):",
      "    msg_list1 = rout1.recv_multipart()",
      "    print msg_list1",
      "    ident1 = msg_list1[0]"
     ],
     "language": "python",
     "outputs": [
      {
       "output_type": "stream",
       "stream": "stdout",
       "text": [
        "['\\x00\\xeaj\\\\\\x8b4_C\\x1a\\x93\\xb6\\x03\\xfesBP\\xd4', 'message', '0']",
        "['\\x00\\xeaj\\\\\\x8b4_C\\x1a\\x93\\xb6\\x03\\xfesBP\\xd4', 'message', '2']",
        "['\\x00\\xeaj\\\\\\x8b4_C\\x1a\\x93\\xb6\\x03\\xfesBP\\xd4', 'message', '4']",
        "['\\x00\\xeaj\\\\\\x8b4_C\\x1a\\x93\\xb6\\x03\\xfesBP\\xd4', 'message', '6']",
        "['\\x00\\xeaj\\\\\\x8b4_C\\x1a\\x93\\xb6\\x03\\xfesBP\\xd4', 'message', '8']"
       ]
      }
     ],
     "prompt_number": 10
    },
    {
     "cell_type": "markdown",
     "source": [
      "Here we see that the first `ROUTER` socket has received the even numbered messages. That is, the `DEALER` has load balanced the outbound messages to the two `ROUTER` sockets. As expected the second `ROUTER` has received the odd numbered messages:"
     ]
    },
    {
     "cell_type": "code",
     "collapsed": false,
     "input": [
      "for i in range(5):",
      "    msg_list2 = rout2.recv_multipart()",
      "    print msg_list2",
      "    ident2 = msg_list2[0]"
     ],
     "language": "python",
     "outputs": [
      {
       "output_type": "stream",
       "stream": "stdout",
       "text": [
        "['\\x00\\x1e}x\\xbb\\x93\\x1aHU\\xbcu\\x0b{\\xddz\\xcb\\xcd', 'message', '1']",
        "['\\x00\\x1e}x\\xbb\\x93\\x1aHU\\xbcu\\x0b{\\xddz\\xcb\\xcd', 'message', '3']",
        "['\\x00\\x1e}x\\xbb\\x93\\x1aHU\\xbcu\\x0b{\\xddz\\xcb\\xcd', 'message', '5']",
        "['\\x00\\x1e}x\\xbb\\x93\\x1aHU\\xbcu\\x0b{\\xddz\\xcb\\xcd', 'message', '7']",
        "['\\x00\\x1e}x\\xbb\\x93\\x1aHU\\xbcu\\x0b{\\xddz\\xcb\\xcd', 'message', '9']"
       ]
      }
     ],
     "prompt_number": 11
    },
    {
     "cell_type": "markdown",
     "source": [
      "But wait, **what is this extra message frame at the beginning?**  This is called the **socket identity.** If you look back at the receive loops above you will see that we have saved the identities in the `ident1` and `ident2` variables."
     ]
    },
    {
     "cell_type": "code",
     "collapsed": false,
     "input": [
      "print repr(ident1)",
      "print repr(ident2)"
     ],
     "language": "python",
     "outputs": [
      {
       "output_type": "stream",
       "stream": "stdout",
       "text": [
        "'\\x00\\xeaj\\\\\\x8b4_C\\x1a\\x93\\xb6\\x03\\xfesBP\\xd4'",
        "'\\x00\\x1e}x\\xbb\\x93\\x1aHU\\xbcu\\x0b{\\xddz\\xcb\\xcd'"
       ]
      }
     ],
     "prompt_number": 13
    },
    {
     "cell_type": "markdown",
     "source": [
      "The reason `ROUTER` sockets need identities goes back to the fact that `ROUTER/DEALER` socket support arbitrary send/receive sequences. Because of this, the `ROUTER` can be handling requests for multiple peers at one time. You need a way to tell the `ROUTER` socket *which* peer a given reply should be sent to, so the `ROUTER` gives you an address, or identity, that links each message to the peer that sent it. To reply using the `ROUTER` sockets, just add the identity as the first frame in a multipart message."
     ]
    },
    {
     "cell_type": "code",
     "collapsed": false,
     "input": [
      "for i in range(5):",
      "    rout1.send_multipart([ident1,'reply1',str(i)])",
      "for i in range(5):",
      "    rout2.send_multipart([ident2,'reply2',str(i)])"
     ],
     "language": "python",
     "outputs": [],
     "prompt_number": 16
    },
    {
     "cell_type": "code",
     "collapsed": false,
     "input": [
      "for i in range(10):",
      "    print deal.recv_multipart()"
     ],
     "language": "python",
     "outputs": [
      {
       "output_type": "stream",
       "stream": "stdout",
       "text": [
        "['reply1', '0']",
        "['reply2', '0']",
        "['reply1', '1']",
        "['reply2', '1']",
        "['reply1', '2']",
        "['reply2', '2']",
        "['reply1', '3']",
        "['reply2', '3']",
        "['reply1', '4']",
        "['reply2', '4']"
       ]
      }
     ],
     "prompt_number": 17
    },
    {
     "cell_type": "markdown",
     "source": [
      "A few important points about these replies:",
      "",
      "* The identities don't show up on the `DEALER` side. They are only used on the `ROUTER` side for routing messages.",
      "* Even though the first router sent all of its replies *before* the second router sent any, when we read them off the `DEALER`s incoming queue, the replies from the two routers have been interleaved. This is call fair queuing and is done to ensure that a given peer doesn't dominate a socket's incoming queue."
     ]
    },
    {
     "cell_type": "markdown",
     "source": [
      "## Using `ROUTER` to route requests"
     ]
    },
    {
     "cell_type": "markdown",
     "source": [
      "In the previous example, the requester (`DEALER`) didn't care which replier (`ROUTER`) handled each message. In fact, the requester didn't even know how many repliers were connected. However, sometimes you want the ability to route your requests to particular peers. This is analogous to sending text messages; when you send a text message, you provide a specific phone number for the recipient of the text message. In this case, you don't want load balancing, you want *addressability*. Amazingly, all we have to do to get this message pattern is to flip the `ROUTER` and `DEALER` sockets around so that the `ROUTER` is the requester and the `DEALER` is the replier."
     ]
    },
    {
     "cell_type": "code",
     "collapsed": true,
     "input": [
      "rout = ctx.socket(zmq.ROUTER)",
      "deal1 = ctx.socket(zmq.DEALER)",
      "deal2 = ctx.socket(zmq.DEALER)"
     ],
     "language": "python",
     "outputs": [],
     "prompt_number": 41
    },
    {
     "cell_type": "markdown",
     "source": [
      "Here is our connection diagram that shows the `ROUTER` as the persistent requester and the `DEALER`s as transient repliers.",
      "",
      "<image src=\"files/diagrams/04_diagram_2.png\"/>"
     ]
    },
    {
     "cell_type": "code",
     "collapsed": true,
     "input": [
      "rout.bind('tcp://127.0.0.1:1401')",
      "deal1.connect('tcp://127.0.0.1:1401')",
      "deal2.connect('tcp://127.0.0.1:1401')"
     ],
     "language": "python",
     "outputs": [],
     "prompt_number": 42
    },
    {
     "cell_type": "markdown",
     "source": [
      "In this pattern, the first step is for each `DEALER` to send a registration message, so the `ROUTER` knows of its presence. Here we will send a simple message with the names of the persons with the `DEALER` sockets."
     ]
    },
    {
     "cell_type": "code",
     "collapsed": false,
     "input": [
      "deal1.send('Alice')",
      "deal2.send('Bob')"
     ],
     "language": "python",
     "outputs": [],
     "prompt_number": 43
    },
    {
     "cell_type": "markdown",
     "source": [
      "On the `ROUTER` side, the identities and names are saved in a `dict`."
     ]
    },
    {
     "cell_type": "code",
     "collapsed": false,
     "input": [
      "idents = {}",
      "for i in range(2):",
      "    msg_list = rout.recv_multipart()",
      "    idents[msg_list[1]] = msg_list[0]",
      "idents"
     ],
     "language": "python",
     "outputs": [
      {
       "output_type": "pyout",
       "prompt_number": 44,
       "text": [
        "{'Alice': '\\x00\\xefO<\\xdd.jA\\x1e\\xac\\xe6U\\x1b\\x9b{\\xbdc',",
        " 'Bob': '\\x00\\xdc-\\xb6r\\x8f\\x93ES\\x96\\xce\\x14\\xf8\\xcd10\\xcd'}"
       ]
      }
     ],
     "prompt_number": 44
    },
    {
     "cell_type": "markdown",
     "source": [
      "This `dict` can now be used by the `ROUTER` to send messages to specific peers."
     ]
    },
    {
     "cell_type": "code",
     "collapsed": false,
     "input": [
      "rout.send_multipart([idents['Alice'],'Can you have coffee at 3 pm?'])",
      "rout.send_multipart([idents['Bob'],'Can you give me a ride home from work today'])"
     ],
     "language": "python",
     "outputs": [],
     "prompt_number": 45
    },
    {
     "cell_type": "code",
     "collapsed": false,
     "input": [
      "deal1.recv()"
     ],
     "language": "python",
     "outputs": [
      {
       "output_type": "pyout",
       "prompt_number": 46,
       "text": [
        "'Can you have coffee at 3 pm?'"
       ]
      }
     ],
     "prompt_number": 46
    },
    {
     "cell_type": "code",
     "collapsed": true,
     "input": [
      "deal1.send('Yes')"
     ],
     "language": "python",
     "outputs": [],
     "prompt_number": 47
    },
    {
     "cell_type": "code",
     "collapsed": false,
     "input": [
      "deal2.recv()"
     ],
     "language": "python",
     "outputs": [
      {
       "output_type": "pyout",
       "prompt_number": 48,
       "text": [
        "'Can you give me a ride home from work today'"
       ]
      }
     ],
     "prompt_number": 48
    },
    {
     "cell_type": "code",
     "collapsed": true,
     "input": [
      "deal2.send('No')"
     ],
     "language": "python",
     "outputs": [],
     "prompt_number": 49
    },
    {
     "cell_type": "markdown",
     "source": [
      "To help us reconstruct the replies, invert the `dict`."
     ]
    },
    {
     "cell_type": "code",
     "collapsed": false,
     "input": [
      "inv_idents = dict([v,k] for k,v in idents.iteritems()); inv_idents"
     ],
     "language": "python",
     "outputs": [
      {
       "output_type": "pyout",
       "prompt_number": 52,
       "text": [
        "{'\\x00\\xdc-\\xb6r\\x8f\\x93ES\\x96\\xce\\x14\\xf8\\xcd10\\xcd': 'Bob',",
        " '\\x00\\xefO<\\xdd.jA\\x1e\\xac\\xe6U\\x1b\\x9b{\\xbdc': 'Alice'}"
       ]
      }
     ],
     "prompt_number": 52
    },
    {
     "cell_type": "code",
     "collapsed": false,
     "input": [
      "for i in range(2):",
      "    msg_list = rout.recv_multipart()",
      "    print inv_idents[msg_list[0]], \"said:\",msg_list[1]"
     ],
     "language": "python",
     "outputs": [
      {
       "output_type": "stream",
       "stream": "stdout",
       "text": [
        "Bob said, No",
        "Alice said, Yes"
       ]
      }
     ],
     "prompt_number": 51
    },
    {
     "cell_type": "code",
     "collapsed": true,
     "input": [],
     "language": "python",
     "outputs": []
    }
   ]
  }
 ]
}