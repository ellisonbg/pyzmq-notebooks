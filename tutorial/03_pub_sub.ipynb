{
 "metadata": {
  "name": "03_pub_sub"
 },
 "nbformat": 3,
 "worksheets": [
  {
   "cells": [
    {
     "cell_type": "markdown",
     "source": [
      "# Publish/Subscribe"
     ]
    },
    {
     "cell_type": "markdown",
     "source": [
      "The next messaging pattern in ZeroMQ is called publish/subscribe. It has the following characteristics:",
      "",
      "* One endpoint, the publisher, sends messages. In the simple version of this pattern, there is only one publisher.",
      "* Multiple endpoints, called subscribers, subscribe to the message flow and receive messages.",
      "* Publishers never receive and subscribers never send. The flow of information is one way from the publisher to the subscriber.",
      "* Subscribers can filter the messages they receive using topics.",
      "* The flow of information is like a radio broadcast. If a subscriber is not connected or subscribed to a topic when a message is sent, it never receives that message.",
      "",
      "As you can imagine, the publish/subscribe pattern is used in completely different situations than request/reply."
     ]
    },
    {
     "cell_type": "markdown",
     "source": [
      "## The basics"
     ]
    },
    {
     "cell_type": "code",
     "collapsed": true,
     "input": [
      "import zmq"
     ],
     "language": "python",
     "outputs": [],
     "prompt_number": 1
    },
    {
     "cell_type": "code",
     "collapsed": false,
     "input": [
      "ctx = zmq.Context()"
     ],
     "language": "python",
     "outputs": [],
     "prompt_number": 2
    },
    {
     "cell_type": "markdown",
     "source": [
      "Create a pair of `PUB/SUB` sockets:"
     ]
    },
    {
     "cell_type": "code",
     "collapsed": true,
     "input": [
      "pub = ctx.socket(zmq.PUB)",
      "sub = ctx.socket(zmq.SUB)"
     ],
     "language": "python",
     "outputs": [],
     "prompt_number": 3
    },
    {
     "cell_type": "markdown",
     "source": [
      "Bind and connect the sockets. Which is persistent and which transient?"
     ]
    },
    {
     "cell_type": "code",
     "collapsed": false,
     "input": [
      "pub.bind('tcp://127.0.0.1:1300')",
      "sub.connect('tcp://127.0.0.1:1300')"
     ],
     "language": "python",
     "outputs": [],
     "prompt_number": 4
    },
    {
     "cell_type": "markdown",
     "source": [
      "Let's try to publish some simple messages:"
     ]
    },
    {
     "cell_type": "code",
     "collapsed": false,
     "input": [
      "pub.send_multipart(['AAPL','BID','500.0'])",
      "pub.send_multipart(['GOOG','ASK','600.0'])"
     ],
     "language": "python",
     "outputs": [],
     "prompt_number": 5
    },
    {
     "cell_type": "markdown",
     "source": [
      "Let's do a non-blocking receive to see if the subscriber has any messages:"
     ]
    },
    {
     "cell_type": "code",
     "collapsed": false,
     "input": [
      "try:",
      "    sub.recv(zmq.NOBLOCK)",
      "except zmq.ZMQError, e:",
      "    print e.errno==zmq.EAGAIN"
     ],
     "language": "python",
     "outputs": [
      {
       "output_type": "stream",
       "stream": "stdout",
       "text": [
        "True"
       ]
      }
     ],
     "prompt_number": 6
    },
    {
     "cell_type": "markdown",
     "source": [
      "We see that even though the publisher send two messages, the subscriber didn't get them.  Why? Before a subscriber can receive messages, it must subscribe to particular topics. A topic is simply the first frame of a message and must match for a subscriber to get that message. To subscribe to all topics, subscribe to the empty byte string:"
     ]
    },
    {
     "cell_type": "code",
     "collapsed": true,
     "input": [
      "sub.setsockopt(zmq.SUBSCRIBE,b'')"
     ],
     "language": "python",
     "outputs": [],
     "prompt_number": 7
    },
    {
     "cell_type": "markdown",
     "source": [
      "Let's see if we can get those messages now:"
     ]
    },
    {
     "cell_type": "code",
     "collapsed": false,
     "input": [
      "sub.recv(zmq.NOBLOCK)"
     ],
     "language": "python",
     "outputs": [
      {
       "ename": "ZMQError",
       "evalue": "Resource temporarily unavailable",
       "output_type": "pyerr",
       "traceback": [
        "\u001b[0;31m---------------------------------------------------------------------------\u001b[0m\n\u001b[0;31mZMQError\u001b[0m                                  Traceback (most recent call last)",
        "\u001b[0;32m/Users/bgranger/Documents/Computation/zeromq/pyzmq/tutorial/<ipython-input-11-2ccb497eb8f3>\u001b[0m in \u001b[0;36m<module>\u001b[0;34m()\u001b[0m\n\u001b[0;32m----> 1\u001b[0;31m \u001b[0msub\u001b[0m\u001b[0;34m.\u001b[0m\u001b[0mrecv\u001b[0m\u001b[0;34m(\u001b[0m\u001b[0mzmq\u001b[0m\u001b[0;34m.\u001b[0m\u001b[0mNOBLOCK\u001b[0m\u001b[0;34m)\u001b[0m\u001b[0;34m\u001b[0m\u001b[0m\n\u001b[0m",
        "\u001b[0;32m/Users/bgranger/Documents/Computation/zeromq/pyzmq/zmq/core/socket.so\u001b[0m in \u001b[0;36mzmq.core.socket.Socket.recv (zmq/core/socket.c:5963)\u001b[0;34m()\u001b[0m\n",
        "\u001b[0;32m/Users/bgranger/Documents/Computation/zeromq/pyzmq/zmq/core/socket.so\u001b[0m in \u001b[0;36mzmq.core.socket.Socket.recv (zmq/core/socket.c:5825)\u001b[0;34m()\u001b[0m\n",
        "\u001b[0;32m/Users/bgranger/Documents/Computation/zeromq/pyzmq/zmq/core/socket.so\u001b[0m in \u001b[0;36mzmq.core.socket._recv_copy (zmq/core/socket.c:1651)\u001b[0;34m()\u001b[0m\n",
        "\u001b[0;31mZMQError\u001b[0m: Resource temporarily unavailable"
       ]
      }
     ],
     "prompt_number": 11
    },
    {
     "cell_type": "markdown",
     "source": [
      "Hmm, we see that we got a `zmq.EAGAIN` error, which indicates that there are no messages to receive. What happened to the previous messages we sent? Aren't we subscribed to all topics now? Because the subscriber was not subscribed to a matching topic when they were sent, they were discarded. This demonstrates one of the core concepts of the publish/subscribe pattern, that messages are discarded if a subscriber is not connected or doesn't have a matching topic. Now that we are subscribed to all topics, let's send our messages again:"
     ]
    },
    {
     "cell_type": "code",
     "collapsed": false,
     "input": [
      "pub.send_multipart(['AAPL','BID','500.0'])",
      "pub.send_multipart(['GOOG','ASK','600.0'])"
     ],
     "language": "python",
     "outputs": [],
     "prompt_number": 9
    },
    {
     "cell_type": "markdown",
     "source": [
      "Now we should see those messages:"
     ]
    },
    {
     "cell_type": "code",
     "collapsed": false,
     "input": [
      "for i in range(2):",
      "    print sub.recv_multipart()"
     ],
     "language": "python",
     "outputs": [
      {
       "output_type": "stream",
       "stream": "stdout",
       "text": [
        "['AAPL', 'BID', '500.0']",
        "['GOOG', 'ASK', '600.0']"
       ]
      }
     ],
     "prompt_number": 10
    },
    {
     "cell_type": "markdown",
     "source": [
      "Remember, subscribers should never call `send` and will get an `zmq.EFSM` error if they do."
     ]
    },
    {
     "cell_type": "code",
     "collapsed": false,
     "input": [
      "sub.send('BAD')"
     ],
     "language": "python",
     "outputs": [
      {
       "ename": "ZMQError",
       "evalue": "Operation not supported",
       "output_type": "pyerr",
       "traceback": [
        "\u001b[0;31m---------------------------------------------------------------------------\u001b[0m\n\u001b[0;31mZMQError\u001b[0m                                  Traceback (most recent call last)",
        "\u001b[0;32m/Users/bgranger/Documents/Computation/zeromq/pyzmq/tutorial/<ipython-input-47-893715f889f2>\u001b[0m in \u001b[0;36m<module>\u001b[0;34m()\u001b[0m\n\u001b[0;32m----> 1\u001b[0;31m \u001b[0msub\u001b[0m\u001b[0;34m.\u001b[0m\u001b[0msend\u001b[0m\u001b[0;34m(\u001b[0m\u001b[0;34m'BAD'\u001b[0m\u001b[0;34m)\u001b[0m\u001b[0;34m\u001b[0m\u001b[0m\n\u001b[0m",
        "\u001b[0;32m/Users/bgranger/Documents/Computation/zeromq/pyzmq/zmq/core/socket.so\u001b[0m in \u001b[0;36mzmq.core.socket.Socket.send (zmq/core/socket.c:5701)\u001b[0;34m()\u001b[0m\n",
        "\u001b[0;32m/Users/bgranger/Documents/Computation/zeromq/pyzmq/zmq/core/socket.so\u001b[0m in \u001b[0;36mzmq.core.socket.Socket.send (zmq/core/socket.c:5459)\u001b[0;34m()\u001b[0m\n",
        "\u001b[0;32m/Users/bgranger/Documents/Computation/zeromq/pyzmq/zmq/core/socket.so\u001b[0m in \u001b[0;36mzmq.core.socket._send_copy (zmq/core/socket.c:2059)\u001b[0;34m()\u001b[0m\n",
        "\u001b[0;31mZMQError\u001b[0m: Operation not supported"
       ]
      }
     ],
     "prompt_number": 47
    },
    {
     "cell_type": "markdown",
     "source": [
      "## A multi-topic example"
     ]
    },
    {
     "cell_type": "markdown",
     "source": [
      "For a more complex example, let's create a publisher that broadcasts weather data for a set of cities. We will use this examples to see how we can use topics to filter information streams. The publisher for this example can be found in the file `03_weather.py`. Run this at the command line by doing:",
      "",
      "    $ python 03_weather.py 1301",
      "",
      "Let's create a subscriber to watch this stream of information. Initially, we will subscripte to all topics:"
     ]
    },
    {
     "cell_type": "code",
     "collapsed": true,
     "input": [
      "sub = ctx.socket(zmq.SUB)",
      "sub.connect('tcp://127.0.0.1:1301')",
      "sub.setsockopt(zmq.SUBSCRIBE,b'')"
     ],
     "language": "python",
     "outputs": [],
     "prompt_number": 13
    },
    {
     "cell_type": "markdown",
     "source": [
      "Here is a simple function that reads and prints the currently available messages:"
     ]
    },
    {
     "cell_type": "code",
     "collapsed": true,
     "input": [
      "def watch(sub):",
      "    while True:",
      "        try:",
      "            msg = sub.recv_multipart(zmq.NOBLOCK)",
      "        except zmq.ZMQError, e:",
      "            if e.errno==zmq.EAGAIN:",
      "                break",
      "        else:",
      "            print \"Got weather update:\", msg"
     ],
     "language": "python",
     "outputs": [],
     "prompt_number": 12
    },
    {
     "cell_type": "markdown",
     "source": [
      "We are subscribed to all topics, so we should see weather updates for all cities:"
     ]
    },
    {
     "cell_type": "code",
     "collapsed": false,
     "input": [
      "watch(sub)"
     ],
     "language": "python",
     "outputs": [
      {
       "output_type": "stream",
       "stream": "stdout",
       "text": [
        "Got weather update: ['san francisco', 'sunny']",
        "Got weather update: ['los angeles', 'raining']",
        "Got weather update: ['seattle', 'foggy']"
       ]
      }
     ],
     "prompt_number": 17
    },
    {
     "cell_type": "markdown",
     "source": [
      "Let's unsubscribe to all topics and just subsribe to \"new york\":"
     ]
    },
    {
     "cell_type": "code",
     "collapsed": true,
     "input": [
      "sub.setsockopt(zmq.UNSUBSCRIBE,b'')",
      "sub.setsockopt(zmq.SUBSCRIBE,b'new york')"
     ],
     "language": "python",
     "outputs": [],
     "prompt_number": 18
    },
    {
     "cell_type": "code",
     "collapsed": false,
     "input": [
      "watch(sub)"
     ],
     "language": "python",
     "outputs": [],
     "prompt_number": 20
    },
    {
     "cell_type": "markdown",
     "source": [
      "Further subscriptions are additive:"
     ]
    },
    {
     "cell_type": "code",
     "collapsed": true,
     "input": [
      "sub.setsockopt(zmq.SUBSCRIBE,b'miami')"
     ],
     "language": "python",
     "outputs": [],
     "prompt_number": 21
    },
    {
     "cell_type": "code",
     "collapsed": false,
     "input": [
      "watch(sub)"
     ],
     "language": "python",
     "outputs": [
      {
       "output_type": "stream",
       "stream": "stdout",
       "text": [
        "Got weather update: ['miami', 'foggy']",
        "Got weather update: ['new york', 'sunny']",
        "Got weather update: ['new york', 'foggy']",
        "Got weather update: ['miami', 'foggy']",
        "Got weather update: ['new york', 'sunny']",
        "Got weather update: ['miami', 'sunny']",
        "Got weather update: ['miami', 'cloudy']",
        "Got weather update: ['new york', 'raining']",
        "Got weather update: ['new york', 'raining']"
       ]
      }
     ],
     "prompt_number": 25
    },
    {
     "cell_type": "code",
     "collapsed": true,
     "input": [],
     "language": "python",
     "outputs": []
    }
   ]
  }
 ]
}